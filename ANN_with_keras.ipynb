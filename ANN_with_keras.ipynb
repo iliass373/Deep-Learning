{
  "nbformat": 4,
  "nbformat_minor": 0,
  "metadata": {
    "kernelspec": {
      "display_name": "Python 3",
      "language": "python",
      "name": "python3"
    },
    "language_info": {
      "codemirror_mode": {
        "name": "ipython",
        "version": 3
      },
      "file_extension": ".py",
      "mimetype": "text/x-python",
      "name": "python",
      "nbconvert_exporter": "python",
      "pygments_lexer": "ipython3",
      "version": "3.6.1"
    },
    "nav_menu": {
      "height": "264px",
      "width": "369px"
    },
    "toc": {
      "navigate_menu": true,
      "number_sections": true,
      "sideBar": true,
      "threshold": 6,
      "toc_cell": false,
      "toc_section_display": "block",
      "toc_window_display": false
    },
    "colab": {
      "name": "ANN_with_keras.ipynb",
      "provenance": []
    }
  },
  "cells": [
    {
      "cell_type": "markdown",
      "metadata": {
        "id": "KmiB17lg5R7T"
      },
      "source": [
        "# Artificial Neural Networks with Keras"
      ]
    },
    {
      "cell_type": "markdown",
      "metadata": {
        "id": "Oh2Xzn_U5R7U"
      },
      "source": [
        "<table align=\"left\">\n",
        "  <td>\n",
        "    <a target=\"_blank\" href=\"https://colab.research.google.com/github/AbdelMahm/INPT-2020/blob/master/Notebooks_DL/ANN_with_keras.ipynb\"><img src=\"https://colab.research.google.com/img/colab_favicon_256px.png\" />Run in Google Colab</a>\n",
        "  </td>\n",
        "</table>"
      ]
    },
    {
      "cell_type": "markdown",
      "metadata": {
        "id": "fHjUx-Am5R7U"
      },
      "source": [
        "# Setup"
      ]
    },
    {
      "cell_type": "code",
      "metadata": {
        "id": "aNdYm_1Q5R7U"
      },
      "source": [
        "Firstly, let's import a few common modules, ensure MatplotLib plots figures inline and prepare a function to save the figures. We also check that Python 3.5 or later is installed (although Python 2.x may work, it is deprecated so we strongly recommend you use Python 3 instead), as well as Scikit-Learn ≥0.20 and TensorFlow ≥2.0."
      ],
      "execution_count": null,
      "outputs": []
    },
    {
      "cell_type": "code",
      "metadata": {
        "id": "E-ubG_nr5R7W"
      },
      "source": [
        "# TensorFlow ≥2.0 is required\n",
        "import tensorflow as tf\n",
        "\n",
        "# Common imports\n",
        "import numpy as np\n",
        "import os\n",
        "\n",
        "# to make this notebook's output stable across runs\n",
        "np.random.seed(42)\n",
        "\n",
        "# To plot pretty figures\n",
        "%matplotlib inline\n",
        "import matplotlib as mpl\n",
        "import matplotlib.pyplot as plt\n",
        "mpl.rc('axes', labelsize=14)\n",
        "mpl.rc('xtick', labelsize=12)\n",
        "mpl.rc('ytick', labelsize=12)\n",
        "\n",
        "# Ignore useless warnings (see SciPy issue #5998)\n",
        "import warnings\n",
        "warnings.filterwarnings(action=\"ignore\", message=\"^internal gelsd\")"
      ],
      "execution_count": 2,
      "outputs": []
    },
    {
      "cell_type": "markdown",
      "metadata": {
        "id": "tec17V3t5R7X"
      },
      "source": [
        "# Building an Image Classifier"
      ]
    },
    {
      "cell_type": "markdown",
      "metadata": {
        "id": "HkfVDnUF5R7X"
      },
      "source": [
        "First let's import TensorFlow and Keras."
      ]
    },
    {
      "cell_type": "code",
      "metadata": {
        "id": "jJPAHyIs5R7Y"
      },
      "source": [
        "import tensorflow as tf\n",
        "from tensorflow import keras"
      ],
      "execution_count": 3,
      "outputs": []
    },
    {
      "cell_type": "code",
      "metadata": {
        "colab": {
          "base_uri": "https://localhost:8080/",
          "height": 36
        },
        "id": "fqi6yU9Z5R7Y",
        "outputId": "a02d43c3-06b2-4240-8c34-adcd0b797fbe"
      },
      "source": [
        "tf.__version__"
      ],
      "execution_count": 4,
      "outputs": [
        {
          "output_type": "execute_result",
          "data": {
            "application/vnd.google.colaboratory.intrinsic+json": {
              "type": "string"
            },
            "text/plain": [
              "'2.3.0'"
            ]
          },
          "metadata": {
            "tags": []
          },
          "execution_count": 4
        }
      ]
    },
    {
      "cell_type": "markdown",
      "metadata": {
        "id": "iuleJ4Np5R7Y"
      },
      "source": [
        "Let's start by loading the fashion MNIST dataset. Keras has a number of functions to load popular datasets in `keras.datasets`. The dataset is already split for you between a training set and a test set, but it can be useful to split the training set further to have a validation set:"
      ]
    },
    {
      "cell_type": "code",
      "metadata": {
        "colab": {
          "base_uri": "https://localhost:8080/"
        },
        "id": "H9Wis9_K5R7Y",
        "outputId": "c8e47e63-478f-422d-b63c-cd5e85f50159"
      },
      "source": [
        "fashion_mnist = keras.datasets.fashion_mnist\n",
        "(X_train_full, y_train_full), (X_test, y_test) = fashion_mnist.load_data()"
      ],
      "execution_count": 5,
      "outputs": [
        {
          "output_type": "stream",
          "text": [
            "Downloading data from https://storage.googleapis.com/tensorflow/tf-keras-datasets/train-labels-idx1-ubyte.gz\n",
            "32768/29515 [=================================] - 0s 0us/step\n",
            "Downloading data from https://storage.googleapis.com/tensorflow/tf-keras-datasets/train-images-idx3-ubyte.gz\n",
            "26427392/26421880 [==============================] - 0s 0us/step\n",
            "Downloading data from https://storage.googleapis.com/tensorflow/tf-keras-datasets/t10k-labels-idx1-ubyte.gz\n",
            "8192/5148 [===============================================] - 0s 0us/step\n",
            "Downloading data from https://storage.googleapis.com/tensorflow/tf-keras-datasets/t10k-images-idx3-ubyte.gz\n",
            "4423680/4422102 [==============================] - 0s 0us/step\n"
          ],
          "name": "stdout"
        }
      ]
    },
    {
      "cell_type": "markdown",
      "metadata": {
        "id": "wMdAOR1t5R7Y"
      },
      "source": [
        "The training set contains 60,000 grayscale images, each 28x28 pixels:"
      ]
    },
    {
      "cell_type": "code",
      "metadata": {
        "colab": {
          "base_uri": "https://localhost:8080/"
        },
        "id": "mYneQIYp5R7Z",
        "outputId": "2080104f-e6ca-4e0c-9b63-be5f92b34c42"
      },
      "source": [
        "X_train_full.shape"
      ],
      "execution_count": 6,
      "outputs": [
        {
          "output_type": "execute_result",
          "data": {
            "text/plain": [
              "(60000, 28, 28)"
            ]
          },
          "metadata": {
            "tags": []
          },
          "execution_count": 6
        }
      ]
    },
    {
      "cell_type": "markdown",
      "metadata": {
        "id": "vvt-K_d15R7Z"
      },
      "source": [
        "Each pixel intensity is represented as a byte (0 to 255):"
      ]
    },
    {
      "cell_type": "code",
      "metadata": {
        "colab": {
          "base_uri": "https://localhost:8080/"
        },
        "id": "7b9aTbeM5R7Z",
        "outputId": "0185a589-2875-4edb-dffe-ae24fffbdfab"
      },
      "source": [
        "X_train_full.dtype"
      ],
      "execution_count": 7,
      "outputs": [
        {
          "output_type": "execute_result",
          "data": {
            "text/plain": [
              "dtype('uint8')"
            ]
          },
          "metadata": {
            "tags": []
          },
          "execution_count": 7
        }
      ]
    },
    {
      "cell_type": "markdown",
      "metadata": {
        "id": "QNJqyWXP5R7Z"
      },
      "source": [
        "Let's split the full training set into a validation set and a (smaller) training set. We also scale the pixel intensities down to the 0-1 range and convert them to floats, by dividing by 255."
      ]
    },
    {
      "cell_type": "code",
      "metadata": {
        "id": "1HmK8TXG5R7Z"
      },
      "source": [
        "X_valid, X_train = X_train_full[:5000] / 255., X_train_full[5000:] / 255.\n",
        "y_valid, y_train = y_train_full[:5000], y_train_full[5000:]\n",
        "X_test = X_test / 255."
      ],
      "execution_count": 8,
      "outputs": []
    },
    {
      "cell_type": "markdown",
      "metadata": {
        "id": "RMoL0gdK5R7Z"
      },
      "source": [
        "You can plot an image using Matplotlib's `imshow()` function, with a `'binary'`\n",
        " color map:"
      ]
    },
    {
      "cell_type": "code",
      "metadata": {
        "colab": {
          "base_uri": "https://localhost:8080/",
          "height": 248
        },
        "id": "5DlJpL8F5R7Z",
        "outputId": "b0c934ba-3838-48dc-c92d-7babc7f134fd"
      },
      "source": [
        "plt.imshow(X_train[0], cmap=\"binary\")\n",
        "plt.axis('off')\n",
        "plt.show()"
      ],
      "execution_count": 9,
      "outputs": [
        {
          "output_type": "display_data",
          "data": {
            "image/png": "[encoded data removed]",
            "text/plain": [
              "<Figure size 432x288 with 1 Axes>"
            ]
          },
          "metadata": {
            "tags": [],
            "needs_background": "light"
          }
        }
      ]
    },
    {
      "cell_type": "markdown",
      "metadata": {
        "id": "OneiJ8vI5R7a"
      },
      "source": [
        "The labels are the class IDs (represented as uint8), from 0 to 9:"
      ]
    },
    {
      "cell_type": "code",
      "metadata": {
        "colab": {
          "base_uri": "https://localhost:8080/"
        },
        "id": "CAJ7Dd985R7a",
        "outputId": "f18f9959-7689-4110-8d0e-6e85375e3dd4"
      },
      "source": [
        "y_train"
      ],
      "execution_count": 10,
      "outputs": [
        {
          "output_type": "execute_result",
          "data": {
            "text/plain": [
              "array([4, 0, 7, ..., 3, 0, 5], dtype=uint8)"
            ]
          },
          "metadata": {
            "tags": []
          },
          "execution_count": 10
        }
      ]
    },
    {
      "cell_type": "markdown",
      "metadata": {
        "id": "V7Pv_9Tp5R7a"
      },
      "source": [
        "Here are the corresponding class names:"
      ]
    },
    {
      "cell_type": "code",
      "metadata": {
        "id": "AkA0r2mu5R7a"
      },
      "source": [
        "class_names = [\"T-shirt/top\", \"Trouser\", \"Pullover\", \"Dress\", \"Coat\",\n",
        "               \"Sandal\", \"Shirt\", \"Sneaker\", \"Bag\", \"Ankle boot\"]"
      ],
      "execution_count": 11,
      "outputs": []
    },
    {
      "cell_type": "markdown",
      "metadata": {
        "id": "qYueqKbf5R7b"
      },
      "source": [
        "So the first image in the training set is a coat:"
      ]
    },
    {
      "cell_type": "code",
      "metadata": {
        "colab": {
          "base_uri": "https://localhost:8080/",
          "height": 36
        },
        "id": "L77h72OW5R7b",
        "outputId": "a3616063-fc0f-4e0e-b94c-99736a2cfa3a"
      },
      "source": [
        "class_names[y_train[0]]"
      ],
      "execution_count": 12,
      "outputs": [
        {
          "output_type": "execute_result",
          "data": {
            "application/vnd.google.colaboratory.intrinsic+json": {
              "type": "string"
            },
            "text/plain": [
              "'Coat'"
            ]
          },
          "metadata": {
            "tags": []
          },
          "execution_count": 12
        }
      ]
    },
    {
      "cell_type": "markdown",
      "metadata": {
        "id": "DW6-PATl5R7b"
      },
      "source": [
        "The validation set contains 5,000 images, and the test set contains 10,000 images:"
      ]
    },
    {
      "cell_type": "code",
      "metadata": {
        "colab": {
          "base_uri": "https://localhost:8080/"
        },
        "id": "yrOZ6v555R7b",
        "outputId": "27ab0234-b914-44f0-ac87-2116e5ed242e"
      },
      "source": [
        "X_valid.shape"
      ],
      "execution_count": 13,
      "outputs": [
        {
          "output_type": "execute_result",
          "data": {
            "text/plain": [
              "(5000, 28, 28)"
            ]
          },
          "metadata": {
            "tags": []
          },
          "execution_count": 13
        }
      ]
    },
    {
      "cell_type": "code",
      "metadata": {
        "colab": {
          "base_uri": "https://localhost:8080/"
        },
        "id": "8vtQfA8F5R7b",
        "outputId": "eb6b6829-efe9-4c24-93fe-2f529869399a"
      },
      "source": [
        "X_test.shape"
      ],
      "execution_count": 14,
      "outputs": [
        {
          "output_type": "execute_result",
          "data": {
            "text/plain": [
              "(10000, 28, 28)"
            ]
          },
          "metadata": {
            "tags": []
          },
          "execution_count": 14
        }
      ]
    },
    {
      "cell_type": "markdown",
      "metadata": {
        "id": "4XYOeDPB5R7b"
      },
      "source": [
        "Let's take a look at a sample of the images in the dataset:"
      ]
    },
    {
      "cell_type": "code",
      "metadata": {
        "colab": {
          "base_uri": "https://localhost:8080/",
          "height": 308
        },
        "id": "dW9ZlsMT5R7b",
        "outputId": "e0705ed5-5c64-48a6-eedb-7b8fbed30b2d"
      },
      "source": [
        "n_rows = 4\n",
        "n_cols = 10\n",
        "plt.figure(figsize=(n_cols * 1.2, n_rows * 1.2))\n",
        "for row in range(n_rows):\n",
        "    for col in range(n_cols):\n",
        "        index = n_cols * row + col\n",
        "        plt.subplot(n_rows, n_cols, index + 1)\n",
        "        plt.imshow(X_train[index], cmap=\"binary\", interpolation=\"nearest\")\n",
        "        plt.axis('off')\n",
        "        plt.title(class_names[y_train[index]], fontsize=12)\n",
        "plt.subplots_adjust(wspace=0.2, hspace=0.5)\n",
        "plt.show()"
      ],
      "execution_count": 15,
      "outputs": [
        {
          "output_type": "display_data",
          "data": {
            "image/png": "[encoded data removed]",
            "text/plain": [
              "<Figure size 864x345.6 with 40 Axes>"
            ]
          },
          "metadata": {
            "tags": [],
            "needs_background": "light"
          }
        }
      ]
    },
    {
      "cell_type": "markdown",
      "metadata": {
        "id": "2f3Awk6s5R7b"
      },
      "source": [
        "## Construct a Model"
      ]
    },
    {
      "cell_type": "code",
      "metadata": {
        "id": "5qsbTqKb5R7b"
      },
      "source": [
        "model = keras.models.Sequential()\n",
        "model.add(keras.layers.Flatten(input_shape=[28, 28]))\n",
        "model.add(keras.layers.Dense(300, activation=\"relu\"))\n",
        "model.add(keras.layers.Dense(100, activation=\"relu\"))\n",
        "model.add(keras.layers.Dense(10, activation=\"softmax\"))"
      ],
      "execution_count": 16,
      "outputs": []
    },
    {
      "cell_type": "code",
      "metadata": {
        "id": "B39jOdkP5R7b"
      },
      "source": [
        "keras.backend.clear_session()\n",
        "np.random.seed(42)"
      ],
      "execution_count": 17,
      "outputs": []
    },
    {
      "cell_type": "markdown",
      "metadata": {
        "id": "vXfPwsvv5R7b"
      },
      "source": [
        "### or using the folowing method"
      ]
    },
    {
      "cell_type": "code",
      "metadata": {
        "id": "b9ohrFnF5R7b"
      },
      "source": [
        "model = keras.models.Sequential([\n",
        "    keras.layers.Flatten(input_shape=[28, 28]),\n",
        "    keras.layers.Dense(300, activation=\"relu\"),\n",
        "    keras.layers.Dense(100, activation=\"relu\"),\n",
        "    keras.layers.Dense(10, activation=\"softmax\")\n",
        "])"
      ],
      "execution_count": 18,
      "outputs": []
    },
    {
      "cell_type": "code",
      "metadata": {
        "colab": {
          "base_uri": "https://localhost:8080/"
        },
        "id": "gPBd9e5n5R7b",
        "outputId": "a06d34ad-6701-4bca-bc92-435c25cc16c6"
      },
      "source": [
        "model.layers"
      ],
      "execution_count": 19,
      "outputs": [
        {
          "output_type": "execute_result",
          "data": {
            "text/plain": [
              "[<tensorflow.python.keras.layers.core.Flatten at 0x7f3a0b26db00>,\n",
              " <tensorflow.python.keras.layers.core.Dense at 0x7f3a0b26dcc0>,\n",
              " <tensorflow.python.keras.layers.core.Dense at 0x7f3a0b26df98>,\n",
              " <tensorflow.python.keras.layers.core.Dense at 0x7f3a0b276240>]"
            ]
          },
          "metadata": {
            "tags": []
          },
          "execution_count": 19
        }
      ]
    },
    {
      "cell_type": "code",
      "metadata": {
        "colab": {
          "base_uri": "https://localhost:8080/"
        },
        "id": "LqIOQ1g-5R7c",
        "outputId": "22a1e768-67a5-429b-96e2-e39383c4c938"
      },
      "source": [
        "model.summary()"
      ],
      "execution_count": 20,
      "outputs": [
        {
          "output_type": "stream",
          "text": [
            "Model: \"sequential\"\n",
            "_________________________________________________________________\n",
            "Layer (type)                 Output Shape              Param #   \n",
            "=================================================================\n",
            "flatten (Flatten)            (None, 784)               0         \n",
            "_________________________________________________________________\n",
            "dense (Dense)                (None, 300)               235500    \n",
            "_________________________________________________________________\n",
            "dense_1 (Dense)              (None, 100)               30100     \n",
            "_________________________________________________________________\n",
            "dense_2 (Dense)              (None, 10)                1010      \n",
            "=================================================================\n",
            "Total params: 266,610\n",
            "Trainable params: 266,610\n",
            "Non-trainable params: 0\n",
            "_________________________________________________________________\n"
          ],
          "name": "stdout"
        }
      ]
    },
    {
      "cell_type": "code",
      "metadata": {
        "id": "wqn_8jP25R7c"
      },
      "source": [
        "#keras.utils.plot_model(model, \"my_mnist_model.png\", show_shapes=True)"
      ],
      "execution_count": null,
      "outputs": []
    },
    {
      "cell_type": "code",
      "metadata": {
        "colab": {
          "base_uri": "https://localhost:8080/",
          "height": 36
        },
        "id": "It7PdIz05R7d",
        "outputId": "a25eba50-e34c-4b9e-c485-d82de157acb4"
      },
      "source": [
        "hidden1 = model.layers[1]\n",
        "hidden1.name"
      ],
      "execution_count": 21,
      "outputs": [
        {
          "output_type": "execute_result",
          "data": {
            "application/vnd.google.colaboratory.intrinsic+json": {
              "type": "string"
            },
            "text/plain": [
              "'dense'"
            ]
          },
          "metadata": {
            "tags": []
          },
          "execution_count": 21
        }
      ]
    },
    {
      "cell_type": "code",
      "metadata": {
        "colab": {
          "base_uri": "https://localhost:8080/"
        },
        "id": "hJ0QWvqj5R7d",
        "outputId": "7d360fc3-c8ca-44d1-cd49-7407c46251ac"
      },
      "source": [
        "model.get_layer(hidden1.name) is hidden1"
      ],
      "execution_count": 22,
      "outputs": [
        {
          "output_type": "execute_result",
          "data": {
            "text/plain": [
              "True"
            ]
          },
          "metadata": {
            "tags": []
          },
          "execution_count": 22
        }
      ]
    },
    {
      "cell_type": "code",
      "metadata": {
        "id": "P0WzF5hc5R7d"
      },
      "source": [
        "weights, biases = hidden1.get_weights()"
      ],
      "execution_count": 23,
      "outputs": []
    },
    {
      "cell_type": "code",
      "metadata": {
        "colab": {
          "base_uri": "https://localhost:8080/"
        },
        "id": "79g3Sjhf5R7d",
        "outputId": "b5f09692-e5e4-4841-ea87-46118bc33a0d"
      },
      "source": [
        "weights"
      ],
      "execution_count": 25,
      "outputs": [
        {
          "output_type": "execute_result",
          "data": {
            "text/plain": [
              "array([[ 0.02282339,  0.04081745,  0.04846844, ...,  0.05962984,\n",
              "         0.02197083,  0.00761474],\n",
              "       [-0.02309117, -0.02491381, -0.009307  , ..., -0.02575801,\n",
              "         0.00271219,  0.01426959],\n",
              "       [-0.05800051, -0.0297723 , -0.04157215, ...,  0.06788224,\n",
              "         0.0042022 ,  0.03505573],\n",
              "       ...,\n",
              "       [-0.07360021, -0.06112321, -0.01277927, ..., -0.02398342,\n",
              "         0.02341049,  0.00022396],\n",
              "       [ 0.06388012, -0.04259125, -0.05805935, ...,  0.00243938,\n",
              "         0.06982724, -0.01298322],\n",
              "       [-0.00240494, -0.0247171 ,  0.04192638, ...,  0.06096014,\n",
              "         0.07312292,  0.00235101]], dtype=float32)"
            ]
          },
          "metadata": {
            "tags": []
          },
          "execution_count": 25
        }
      ]
    },
    {
      "cell_type": "code",
      "metadata": {
        "colab": {
          "base_uri": "https://localhost:8080/"
        },
        "id": "R40NZBLP5R7d",
        "outputId": "32448460-974b-4f48-9800-646766b2a413"
      },
      "source": [
        "weights.shape"
      ],
      "execution_count": 26,
      "outputs": [
        {
          "output_type": "execute_result",
          "data": {
            "text/plain": [
              "(784, 300)"
            ]
          },
          "metadata": {
            "tags": []
          },
          "execution_count": 26
        }
      ]
    },
    {
      "cell_type": "code",
      "metadata": {
        "colab": {
          "base_uri": "https://localhost:8080/"
        },
        "id": "mbtjrRbm5R7d",
        "outputId": "a965ad11-b4f0-4fae-c72b-5c96eadaf266"
      },
      "source": [
        "biases"
      ],
      "execution_count": 27,
      "outputs": [
        {
          "output_type": "execute_result",
          "data": {
            "text/plain": [
              "array([0., 0., 0., 0., 0., 0., 0., 0., 0., 0., 0., 0., 0., 0., 0., 0., 0.,\n",
              "       0., 0., 0., 0., 0., 0., 0., 0., 0., 0., 0., 0., 0., 0., 0., 0., 0.,\n",
              "       0., 0., 0., 0., 0., 0., 0., 0., 0., 0., 0., 0., 0., 0., 0., 0., 0.,\n",
              "       0., 0., 0., 0., 0., 0., 0., 0., 0., 0., 0., 0., 0., 0., 0., 0., 0.,\n",
              "       0., 0., 0., 0., 0., 0., 0., 0., 0., 0., 0., 0., 0., 0., 0., 0., 0.,\n",
              "       0., 0., 0., 0., 0., 0., 0., 0., 0., 0., 0., 0., 0., 0., 0., 0., 0.,\n",
              "       0., 0., 0., 0., 0., 0., 0., 0., 0., 0., 0., 0., 0., 0., 0., 0., 0.,\n",
              "       0., 0., 0., 0., 0., 0., 0., 0., 0., 0., 0., 0., 0., 0., 0., 0., 0.,\n",
              "       0., 0., 0., 0., 0., 0., 0., 0., 0., 0., 0., 0., 0., 0., 0., 0., 0.,\n",
              "       0., 0., 0., 0., 0., 0., 0., 0., 0., 0., 0., 0., 0., 0., 0., 0., 0.,\n",
              "       0., 0., 0., 0., 0., 0., 0., 0., 0., 0., 0., 0., 0., 0., 0., 0., 0.,\n",
              "       0., 0., 0., 0., 0., 0., 0., 0., 0., 0., 0., 0., 0., 0., 0., 0., 0.,\n",
              "       0., 0., 0., 0., 0., 0., 0., 0., 0., 0., 0., 0., 0., 0., 0., 0., 0.,\n",
              "       0., 0., 0., 0., 0., 0., 0., 0., 0., 0., 0., 0., 0., 0., 0., 0., 0.,\n",
              "       0., 0., 0., 0., 0., 0., 0., 0., 0., 0., 0., 0., 0., 0., 0., 0., 0.,\n",
              "       0., 0., 0., 0., 0., 0., 0., 0., 0., 0., 0., 0., 0., 0., 0., 0., 0.,\n",
              "       0., 0., 0., 0., 0., 0., 0., 0., 0., 0., 0., 0., 0., 0., 0., 0., 0.,\n",
              "       0., 0., 0., 0., 0., 0., 0., 0., 0., 0., 0.], dtype=float32)"
            ]
          },
          "metadata": {
            "tags": []
          },
          "execution_count": 27
        }
      ]
    },
    {
      "cell_type": "code",
      "metadata": {
        "colab": {
          "base_uri": "https://localhost:8080/"
        },
        "id": "C9KD5tq05R7d",
        "outputId": "8408eeb4-78cd-44cd-f0c8-44b1ae76fea2"
      },
      "source": [
        "biases.shape"
      ],
      "execution_count": 28,
      "outputs": [
        {
          "output_type": "execute_result",
          "data": {
            "text/plain": [
              "(300,)"
            ]
          },
          "metadata": {
            "tags": []
          },
          "execution_count": 28
        }
      ]
    },
    {
      "cell_type": "markdown",
      "metadata": {
        "id": "vz3yafHT5R7e"
      },
      "source": [
        "### Compile the Model\n",
        "Here you can chose the loss function, the optimizer, the performance metric, etc. check Keras documentation for further details."
      ]
    },
    {
      "cell_type": "code",
      "metadata": {
        "id": "iiWKV9X-5R7e"
      },
      "source": [
        "model.compile(loss=\"sparse_categorical_crossentropy\",\n",
        "              optimizer=\"sgd\",\n",
        "              metrics=[\"accuracy\"])"
      ],
      "execution_count": 29,
      "outputs": []
    },
    {
      "cell_type": "markdown",
      "metadata": {
        "id": "1GzGES8B5R7e"
      },
      "source": [
        "This is equivalent to:"
      ]
    },
    {
      "cell_type": "markdown",
      "metadata": {
        "id": "MvCzHsat5R7e"
      },
      "source": [
        "```python\n",
        "model.compile(loss=keras.losses.sparse_categorical_crossentropy,\n",
        "              optimizer=keras.optimizers.SGD(),\n",
        "              metrics=[keras.metrics.sparse_categorical_accuracy])\n",
        "```"
      ]
    },
    {
      "cell_type": "markdown",
      "metadata": {
        "id": "P2Q1NX3V5R7e"
      },
      "source": [
        "### Train the model\n",
        "Here you can chose how many epochs you need and the batch size."
      ]
    },
    {
      "cell_type": "code",
      "metadata": {
        "colab": {
          "base_uri": "https://localhost:8080/"
        },
        "id": "AdKse-h65R7f",
        "outputId": "62eaa8ac-4d4f-4556-f071-c01e3d88961c"
      },
      "source": [
        "history = model.fit(X_train, y_train, batch_size=32, epochs=30,\n",
        "                    validation_data=(X_valid, y_valid))"
      ],
      "execution_count": 30,
      "outputs": [
        {
          "output_type": "stream",
          "text": [
            "Epoch 1/30\n",
            "1719/1719 [==============================] - 5s 3ms/step - loss: 0.7189 - accuracy: 0.7634 - val_loss: 0.4997 - val_accuracy: 0.8312\n",
            "Epoch 2/30\n",
            "1719/1719 [==============================] - 5s 3ms/step - loss: 0.4874 - accuracy: 0.8304 - val_loss: 0.4521 - val_accuracy: 0.8464\n",
            "Epoch 3/30\n",
            "1719/1719 [==============================] - 5s 3ms/step - loss: 0.4424 - accuracy: 0.8437 - val_loss: 0.4080 - val_accuracy: 0.8614\n",
            "Epoch 4/30\n",
            "1719/1719 [==============================] - 6s 3ms/step - loss: 0.4153 - accuracy: 0.8535 - val_loss: 0.4026 - val_accuracy: 0.8604\n",
            "Epoch 5/30\n",
            "1719/1719 [==============================] - 5s 3ms/step - loss: 0.3964 - accuracy: 0.8609 - val_loss: 0.3946 - val_accuracy: 0.8612\n",
            "Epoch 6/30\n",
            "1719/1719 [==============================] - 5s 3ms/step - loss: 0.3789 - accuracy: 0.8667 - val_loss: 0.3788 - val_accuracy: 0.8676\n",
            "Epoch 7/30\n",
            "1719/1719 [==============================] - 5s 3ms/step - loss: 0.3657 - accuracy: 0.8706 - val_loss: 0.3708 - val_accuracy: 0.8684\n",
            "Epoch 8/30\n",
            "1719/1719 [==============================] - 5s 3ms/step - loss: 0.3539 - accuracy: 0.8748 - val_loss: 0.3740 - val_accuracy: 0.8678\n",
            "Epoch 9/30\n",
            "1719/1719 [==============================] - 5s 3ms/step - loss: 0.3445 - accuracy: 0.8780 - val_loss: 0.3451 - val_accuracy: 0.8770\n",
            "Epoch 10/30\n",
            "1719/1719 [==============================] - 5s 3ms/step - loss: 0.3350 - accuracy: 0.8808 - val_loss: 0.3430 - val_accuracy: 0.8756\n",
            "Epoch 11/30\n",
            "1719/1719 [==============================] - 5s 3ms/step - loss: 0.3267 - accuracy: 0.8831 - val_loss: 0.3391 - val_accuracy: 0.8818\n",
            "Epoch 12/30\n",
            "1719/1719 [==============================] - 5s 3ms/step - loss: 0.3185 - accuracy: 0.8858 - val_loss: 0.3307 - val_accuracy: 0.8844\n",
            "Epoch 13/30\n",
            "1719/1719 [==============================] - 5s 3ms/step - loss: 0.3107 - accuracy: 0.8892 - val_loss: 0.3301 - val_accuracy: 0.8842\n",
            "Epoch 14/30\n",
            "1719/1719 [==============================] - 5s 3ms/step - loss: 0.3038 - accuracy: 0.8910 - val_loss: 0.3353 - val_accuracy: 0.8844\n",
            "Epoch 15/30\n",
            "1719/1719 [==============================] - 5s 3ms/step - loss: 0.2981 - accuracy: 0.8928 - val_loss: 0.3237 - val_accuracy: 0.8834\n",
            "Epoch 16/30\n",
            "1719/1719 [==============================] - 5s 3ms/step - loss: 0.2922 - accuracy: 0.8952 - val_loss: 0.3209 - val_accuracy: 0.8886\n",
            "Epoch 17/30\n",
            "1719/1719 [==============================] - 5s 3ms/step - loss: 0.2851 - accuracy: 0.8977 - val_loss: 0.3226 - val_accuracy: 0.8902\n",
            "Epoch 18/30\n",
            "1719/1719 [==============================] - 5s 3ms/step - loss: 0.2790 - accuracy: 0.8991 - val_loss: 0.3143 - val_accuracy: 0.8848\n",
            "Epoch 19/30\n",
            "1719/1719 [==============================] - 5s 3ms/step - loss: 0.2743 - accuracy: 0.9011 - val_loss: 0.3252 - val_accuracy: 0.8812\n",
            "Epoch 20/30\n",
            "1719/1719 [==============================] - 5s 3ms/step - loss: 0.2687 - accuracy: 0.9039 - val_loss: 0.3317 - val_accuracy: 0.8840\n",
            "Epoch 21/30\n",
            "1719/1719 [==============================] - 5s 3ms/step - loss: 0.2640 - accuracy: 0.9052 - val_loss: 0.3075 - val_accuracy: 0.8916\n",
            "Epoch 22/30\n",
            "1719/1719 [==============================] - 5s 3ms/step - loss: 0.2588 - accuracy: 0.9069 - val_loss: 0.3175 - val_accuracy: 0.8874\n",
            "Epoch 23/30\n",
            "1719/1719 [==============================] - 5s 3ms/step - loss: 0.2548 - accuracy: 0.9072 - val_loss: 0.3101 - val_accuracy: 0.8904\n",
            "Epoch 24/30\n",
            "1719/1719 [==============================] - 5s 3ms/step - loss: 0.2499 - accuracy: 0.9108 - val_loss: 0.3034 - val_accuracy: 0.8904\n",
            "Epoch 25/30\n",
            "1719/1719 [==============================] - 5s 3ms/step - loss: 0.2464 - accuracy: 0.9119 - val_loss: 0.2957 - val_accuracy: 0.8954\n",
            "Epoch 26/30\n",
            "1719/1719 [==============================] - 5s 3ms/step - loss: 0.2425 - accuracy: 0.9117 - val_loss: 0.3021 - val_accuracy: 0.8934\n",
            "Epoch 27/30\n",
            "1719/1719 [==============================] - 5s 3ms/step - loss: 0.2386 - accuracy: 0.9145 - val_loss: 0.2915 - val_accuracy: 0.8942\n",
            "Epoch 28/30\n",
            "1719/1719 [==============================] - 5s 3ms/step - loss: 0.2323 - accuracy: 0.9166 - val_loss: 0.3056 - val_accuracy: 0.8862\n",
            "Epoch 29/30\n",
            "1719/1719 [==============================] - 5s 3ms/step - loss: 0.2299 - accuracy: 0.9170 - val_loss: 0.3394 - val_accuracy: 0.8808\n",
            "Epoch 30/30\n",
            "1719/1719 [==============================] - 5s 3ms/step - loss: 0.2259 - accuracy: 0.9187 - val_loss: 0.3046 - val_accuracy: 0.8944\n"
          ],
          "name": "stdout"
        }
      ]
    },
    {
      "cell_type": "code",
      "metadata": {
        "colab": {
          "base_uri": "https://localhost:8080/"
        },
        "id": "zuuxNaD85R7f",
        "outputId": "30ab6a4c-f6bd-444c-92fa-be49b8a08da8"
      },
      "source": [
        "history.params"
      ],
      "execution_count": 31,
      "outputs": [
        {
          "output_type": "execute_result",
          "data": {
            "text/plain": [
              "{'epochs': 30, 'steps': 1719, 'verbose': 1}"
            ]
          },
          "metadata": {
            "tags": []
          },
          "execution_count": 31
        }
      ]
    },
    {
      "cell_type": "code",
      "metadata": {
        "colab": {
          "base_uri": "https://localhost:8080/"
        },
        "id": "ckU-HH_15R7f",
        "outputId": "c681b0ac-254c-4373-fb71-68f68c141394"
      },
      "source": [
        "print(history.epoch)"
      ],
      "execution_count": 32,
      "outputs": [
        {
          "output_type": "stream",
          "text": [
            "[0, 1, 2, 3, 4, 5, 6, 7, 8, 9, 10, 11, 12, 13, 14, 15, 16, 17, 18, 19, 20, 21, 22, 23, 24, 25, 26, 27, 28, 29]\n"
          ],
          "name": "stdout"
        }
      ]
    },
    {
      "cell_type": "code",
      "metadata": {
        "colab": {
          "base_uri": "https://localhost:8080/"
        },
        "id": "7YqYnp8C5R7f",
        "outputId": "4fd00760-d716-490b-f292-d32ca4e86e6e"
      },
      "source": [
        "history.history.keys()"
      ],
      "execution_count": 33,
      "outputs": [
        {
          "output_type": "execute_result",
          "data": {
            "text/plain": [
              "dict_keys(['loss', 'accuracy', 'val_loss', 'val_accuracy'])"
            ]
          },
          "metadata": {
            "tags": []
          },
          "execution_count": 33
        }
      ]
    },
    {
      "cell_type": "markdown",
      "metadata": {
        "id": "mBESaGhg5R7f"
      },
      "source": [
        "### Plot learning Curves"
      ]
    },
    {
      "cell_type": "code",
      "metadata": {
        "colab": {
          "base_uri": "https://localhost:8080/",
          "height": 328
        },
        "id": "-Ak8PfAn5R7f",
        "outputId": "fb6803ad-8307-4b13-bb76-d64bd8dfbc4c"
      },
      "source": [
        "import pandas as pd\n",
        "\n",
        "pd.DataFrame(history.history).plot(figsize=(8, 5))\n",
        "plt.grid(True)\n",
        "plt.gca().set_ylim(0, 1)\n",
        "plt.show()"
      ],
      "execution_count": 34,
      "outputs": [
        {
          "output_type": "display_data",
          "data": {
            "image/png": "[encoded data removed]",
            "text/plain": [
              "<Figure size 576x360 with 1 Axes>"
            ]
          },
          "metadata": {
            "tags": [],
            "needs_background": "light"
          }
        }
      ]
    },
    {
      "cell_type": "code",
      "metadata": {
        "colab": {
          "base_uri": "https://localhost:8080/"
        },
        "id": "0bWSSsx25R7f",
        "outputId": "ff16fa1f-0f82-4a52-dcdf-3f7f7599faeb"
      },
      "source": [
        "model.evaluate(X_test, y_test)"
      ],
      "execution_count": 35,
      "outputs": [
        {
          "output_type": "stream",
          "text": [
            "313/313 [==============================] - 1s 2ms/step - loss: 0.3271 - accuracy: 0.8863\n"
          ],
          "name": "stdout"
        },
        {
          "output_type": "execute_result",
          "data": {
            "text/plain": [
              "[0.32713863253593445, 0.8863000273704529]"
            ]
          },
          "metadata": {
            "tags": []
          },
          "execution_count": 35
        }
      ]
    },
    {
      "cell_type": "code",
      "metadata": {
        "colab": {
          "base_uri": "https://localhost:8080/"
        },
        "id": "Y0aQ-6_p5R7f",
        "outputId": "1c14ed65-6a4f-438b-8a49-0960b913f6a1"
      },
      "source": [
        "X_new = X_test[:3]\n",
        "y_proba = model.predict(X_new)\n",
        "y_proba.round(2)"
      ],
      "execution_count": 36,
      "outputs": [
        {
          "output_type": "execute_result",
          "data": {
            "text/plain": [
              "array([[0.  , 0.  , 0.  , 0.  , 0.  , 0.01, 0.  , 0.03, 0.  , 0.96],\n",
              "       [0.  , 0.  , 1.  , 0.  , 0.  , 0.  , 0.  , 0.  , 0.  , 0.  ],\n",
              "       [0.  , 1.  , 0.  , 0.  , 0.  , 0.  , 0.  , 0.  , 0.  , 0.  ]],\n",
              "      dtype=float32)"
            ]
          },
          "metadata": {
            "tags": []
          },
          "execution_count": 36
        }
      ]
    },
    {
      "cell_type": "code",
      "metadata": {
        "colab": {
          "base_uri": "https://localhost:8080/"
        },
        "id": "NdG2_NLV5R7g",
        "outputId": "f2e5196f-0888-44e8-aadd-ae759f93d9d4"
      },
      "source": [
        "y_pred = model.predict_classes(X_new)\n",
        "y_pred"
      ],
      "execution_count": 37,
      "outputs": [
        {
          "output_type": "stream",
          "text": [
            "WARNING:tensorflow:From <ipython-input-37-81ace37e545f>:1: Sequential.predict_classes (from tensorflow.python.keras.engine.sequential) is deprecated and will be removed after 2021-01-01.\n",
            "Instructions for updating:\n",
            "Please use instead:* `np.argmax(model.predict(x), axis=-1)`,   if your model does multi-class classification   (e.g. if it uses a `softmax` last-layer activation).* `(model.predict(x) > 0.5).astype(\"int32\")`,   if your model does binary classification   (e.g. if it uses a `sigmoid` last-layer activation).\n"
          ],
          "name": "stdout"
        },
        {
          "output_type": "execute_result",
          "data": {
            "text/plain": [
              "array([9, 2, 1])"
            ]
          },
          "metadata": {
            "tags": []
          },
          "execution_count": 37
        }
      ]
    },
    {
      "cell_type": "code",
      "metadata": {
        "colab": {
          "base_uri": "https://localhost:8080/"
        },
        "id": "LLaUwxSU5R7g",
        "outputId": "d5e2065f-9d78-429a-9d1a-bf77864a54ea"
      },
      "source": [
        "np.array(class_names)[y_pred]"
      ],
      "execution_count": 38,
      "outputs": [
        {
          "output_type": "execute_result",
          "data": {
            "text/plain": [
              "array(['Ankle boot', 'Pullover', 'Trouser'], dtype='<U11')"
            ]
          },
          "metadata": {
            "tags": []
          },
          "execution_count": 38
        }
      ]
    },
    {
      "cell_type": "code",
      "metadata": {
        "colab": {
          "base_uri": "https://localhost:8080/"
        },
        "id": "efA91All5R7g",
        "outputId": "916ccacc-0309-4f2d-ad3a-9860ebd13e2d"
      },
      "source": [
        "y_new = y_test[:3]\n",
        "y_new"
      ],
      "execution_count": 39,
      "outputs": [
        {
          "output_type": "execute_result",
          "data": {
            "text/plain": [
              "array([9, 2, 1], dtype=uint8)"
            ]
          },
          "metadata": {
            "tags": []
          },
          "execution_count": 39
        }
      ]
    },
    {
      "cell_type": "code",
      "metadata": {
        "colab": {
          "base_uri": "https://localhost:8080/",
          "height": 165
        },
        "id": "Mfz8-jrG5R7g",
        "outputId": "b253ce00-f846-4971-8465-053a1729cdcf"
      },
      "source": [
        "plt.figure(figsize=(7.2, 2.4))\n",
        "for index, image in enumerate(X_new):\n",
        "    plt.subplot(1, 3, index + 1)\n",
        "    plt.imshow(image, cmap=\"binary\", interpolation=\"nearest\")\n",
        "    plt.axis('off')\n",
        "    plt.title(class_names[y_test[index]], fontsize=12)\n",
        "plt.subplots_adjust(wspace=0.2, hspace=0.5)\n",
        "plt.show()"
      ],
      "execution_count": 40,
      "outputs": [
        {
          "output_type": "display_data",
          "data": {
            "image/png": "[encoded data removed]",
            "text/plain": [
              "<Figure size 518.4x172.8 with 3 Axes>"
            ]
          },
          "metadata": {
            "tags": [],
            "needs_background": "light"
          }
        }
      ]
    },
    {
      "cell_type": "markdown",
      "metadata": {
        "collapsed": true,
        "id": "rxEgwwEv5R7g"
      },
      "source": [
        "## Exercise"
      ]
    },
    {
      "cell_type": "markdown",
      "metadata": {
        "id": "qqXdJ3bT5R7g"
      },
      "source": [
        "#### 1) Plot Learning curves when using different optimizers\n",
        "#### 2) Plot Learning curves when using different batch size\n",
        "#### 3) Plot Learning curves when using different number of epochs\n",
        "#### 4) Add additional neurons and use Dropout Layer. Plot Learning curves.\n",
        "#### 5) Use Batch Normalisation\n",
        "#### 6) repeat with more layers\n",
        "#### 7) apply on different datasets"
      ]
    },
    {
      "cell_type": "code",
      "metadata": {
        "id": "CyBmokiS5R7g"
      },
      "source": [
        "# Using Adam Optimizer\n",
        "\n",
        "model.compile(loss=\"sparse_categorical_crossentropy\",\n",
        "              optimizer=\"Adam\",\n",
        "              metrics=[\"accuracy\"])"
      ],
      "execution_count": 41,
      "outputs": []
    },
    {
      "cell_type": "code",
      "metadata": {
        "colab": {
          "base_uri": "https://localhost:8080/"
        },
        "id": "lUeH_rkhEnQu",
        "outputId": "dd2f5a32-6956-48b1-c066-c0464b597638"
      },
      "source": [
        "history1 = model.fit(X_train, y_train, batch_size=32, epochs=30,\n",
        "                    validation_data=(X_valid, y_valid))\n"
      ],
      "execution_count": 42,
      "outputs": [
        {
          "output_type": "stream",
          "text": [
            "Epoch 1/30\n",
            "1719/1719 [==============================] - 6s 3ms/step - loss: 0.3741 - accuracy: 0.8630 - val_loss: 0.3713 - val_accuracy: 0.8690\n",
            "Epoch 2/30\n",
            "1719/1719 [==============================] - 6s 4ms/step - loss: 0.3308 - accuracy: 0.8784 - val_loss: 0.3225 - val_accuracy: 0.8834\n",
            "Epoch 3/30\n",
            "1719/1719 [==============================] - 6s 4ms/step - loss: 0.3035 - accuracy: 0.8877 - val_loss: 0.3357 - val_accuracy: 0.8818\n",
            "Epoch 4/30\n",
            "1719/1719 [==============================] - 6s 4ms/step - loss: 0.2862 - accuracy: 0.8949 - val_loss: 0.3185 - val_accuracy: 0.8824\n",
            "Epoch 5/30\n",
            "1719/1719 [==============================] - 6s 3ms/step - loss: 0.2746 - accuracy: 0.8972 - val_loss: 0.3040 - val_accuracy: 0.8922\n",
            "Epoch 6/30\n",
            "1719/1719 [==============================] - 6s 3ms/step - loss: 0.2601 - accuracy: 0.9027 - val_loss: 0.3039 - val_accuracy: 0.8882\n",
            "Epoch 7/30\n",
            "1719/1719 [==============================] - 6s 3ms/step - loss: 0.2511 - accuracy: 0.9061 - val_loss: 0.3232 - val_accuracy: 0.8888\n",
            "Epoch 8/30\n",
            "1719/1719 [==============================] - 6s 3ms/step - loss: 0.2392 - accuracy: 0.9110 - val_loss: 0.3008 - val_accuracy: 0.8926\n",
            "Epoch 9/30\n",
            "1719/1719 [==============================] - 6s 3ms/step - loss: 0.2285 - accuracy: 0.9138 - val_loss: 0.3132 - val_accuracy: 0.8952\n",
            "Epoch 10/30\n",
            "1719/1719 [==============================] - 6s 4ms/step - loss: 0.2211 - accuracy: 0.9165 - val_loss: 0.3080 - val_accuracy: 0.8900\n",
            "Epoch 11/30\n",
            "1719/1719 [==============================] - 6s 3ms/step - loss: 0.2140 - accuracy: 0.9194 - val_loss: 0.3094 - val_accuracy: 0.8946\n",
            "Epoch 12/30\n",
            "1719/1719 [==============================] - 6s 3ms/step - loss: 0.2063 - accuracy: 0.9215 - val_loss: 0.3321 - val_accuracy: 0.8920\n",
            "Epoch 13/30\n",
            "1719/1719 [==============================] - 6s 4ms/step - loss: 0.1997 - accuracy: 0.9260 - val_loss: 0.3306 - val_accuracy: 0.8950\n",
            "Epoch 14/30\n",
            "1719/1719 [==============================] - 6s 3ms/step - loss: 0.1912 - accuracy: 0.9265 - val_loss: 0.3421 - val_accuracy: 0.8950\n",
            "Epoch 15/30\n",
            "1719/1719 [==============================] - 6s 3ms/step - loss: 0.1883 - accuracy: 0.9289 - val_loss: 0.3162 - val_accuracy: 0.8974\n",
            "Epoch 16/30\n",
            "1719/1719 [==============================] - 6s 3ms/step - loss: 0.1809 - accuracy: 0.9319 - val_loss: 0.3333 - val_accuracy: 0.8970\n",
            "Epoch 17/30\n",
            "1719/1719 [==============================] - 6s 3ms/step - loss: 0.1766 - accuracy: 0.9322 - val_loss: 0.3433 - val_accuracy: 0.8950\n",
            "Epoch 18/30\n",
            "1719/1719 [==============================] - 6s 4ms/step - loss: 0.1707 - accuracy: 0.9354 - val_loss: 0.3465 - val_accuracy: 0.8966\n",
            "Epoch 19/30\n",
            "1719/1719 [==============================] - 7s 4ms/step - loss: 0.1640 - accuracy: 0.9383 - val_loss: 0.3800 - val_accuracy: 0.8948\n",
            "Epoch 20/30\n",
            "1719/1719 [==============================] - 7s 4ms/step - loss: 0.1623 - accuracy: 0.9386 - val_loss: 0.3285 - val_accuracy: 0.8992\n",
            "Epoch 21/30\n",
            "1719/1719 [==============================] - 10s 6ms/step - loss: 0.1588 - accuracy: 0.9393 - val_loss: 0.3689 - val_accuracy: 0.8946\n",
            "Epoch 22/30\n",
            "1719/1719 [==============================] - 6s 4ms/step - loss: 0.1524 - accuracy: 0.9413 - val_loss: 0.3857 - val_accuracy: 0.8952\n",
            "Epoch 23/30\n",
            "1719/1719 [==============================] - 6s 4ms/step - loss: 0.1514 - accuracy: 0.9421 - val_loss: 0.3713 - val_accuracy: 0.8938\n",
            "Epoch 24/30\n",
            "1719/1719 [==============================] - 6s 4ms/step - loss: 0.1455 - accuracy: 0.9446 - val_loss: 0.3830 - val_accuracy: 0.8980\n",
            "Epoch 25/30\n",
            "1719/1719 [==============================] - 6s 4ms/step - loss: 0.1430 - accuracy: 0.9449 - val_loss: 0.3753 - val_accuracy: 0.8954\n",
            "Epoch 26/30\n",
            "1719/1719 [==============================] - 6s 4ms/step - loss: 0.1402 - accuracy: 0.9463 - val_loss: 0.4626 - val_accuracy: 0.8876\n",
            "Epoch 27/30\n",
            "1719/1719 [==============================] - 6s 4ms/step - loss: 0.1348 - accuracy: 0.9488 - val_loss: 0.4097 - val_accuracy: 0.8980\n",
            "Epoch 28/30\n",
            "1719/1719 [==============================] - 6s 3ms/step - loss: 0.1316 - accuracy: 0.9488 - val_loss: 0.3864 - val_accuracy: 0.8978\n",
            "Epoch 29/30\n",
            "1719/1719 [==============================] - 6s 4ms/step - loss: 0.1308 - accuracy: 0.9492 - val_loss: 0.4674 - val_accuracy: 0.8964\n",
            "Epoch 30/30\n",
            "1719/1719 [==============================] - 6s 3ms/step - loss: 0.1253 - accuracy: 0.9515 - val_loss: 0.4313 - val_accuracy: 0.8950\n"
          ],
          "name": "stdout"
        }
      ]
    },
    {
      "cell_type": "code",
      "metadata": {
        "colab": {
          "base_uri": "https://localhost:8080/"
        },
        "id": "HBrruFjpHKXo",
        "outputId": "f42f3c47-b9e3-4d70-a472-f7de43963202"
      },
      "source": [
        "model.evaluate(X_test, y_test)"
      ],
      "execution_count": 43,
      "outputs": [
        {
          "output_type": "stream",
          "text": [
            "313/313 [==============================] - 0s 1ms/step - loss: 0.4586 - accuracy: 0.8905\n"
          ],
          "name": "stdout"
        },
        {
          "output_type": "execute_result",
          "data": {
            "text/plain": [
              "[0.458644300699234, 0.890500009059906]"
            ]
          },
          "metadata": {
            "tags": []
          },
          "execution_count": 43
        }
      ]
    },
    {
      "cell_type": "code",
      "metadata": {
        "id": "awxdb9CoHOsY"
      },
      "source": [
        "# Using the RMSprop Optimizes\n",
        "model.compile(loss=\"sparse_categorical_crossentropy\",\n",
        "              optimizer=\"RMSprop\",\n",
        "              metrics=[\"accuracy\"])"
      ],
      "execution_count": 44,
      "outputs": []
    },
    {
      "cell_type": "code",
      "metadata": {
        "colab": {
          "base_uri": "https://localhost:8080/"
        },
        "id": "ICqTUnPTHUjM",
        "outputId": "876cb06d-f5e0-40cb-9aab-d86a0789a172"
      },
      "source": [
        "history2 = model.fit(X_train, y_train, batch_size=32, epochs=30,\n",
        "                    validation_data=(X_valid, y_valid))"
      ],
      "execution_count": 45,
      "outputs": [
        {
          "output_type": "stream",
          "text": [
            "Epoch 1/30\n",
            "1719/1719 [==============================] - 8s 5ms/step - loss: 0.1249 - accuracy: 0.9539 - val_loss: 0.5452 - val_accuracy: 0.8990\n",
            "Epoch 2/30\n",
            "1719/1719 [==============================] - 8s 5ms/step - loss: 0.1297 - accuracy: 0.9525 - val_loss: 0.5992 - val_accuracy: 0.8948\n",
            "Epoch 3/30\n",
            "1719/1719 [==============================] - 8s 5ms/step - loss: 0.1380 - accuracy: 0.9503 - val_loss: 0.6701 - val_accuracy: 0.8970\n",
            "Epoch 4/30\n",
            "1719/1719 [==============================] - 8s 5ms/step - loss: 0.1474 - accuracy: 0.9474 - val_loss: 0.7173 - val_accuracy: 0.8930\n",
            "Epoch 5/30\n",
            "1719/1719 [==============================] - 9s 5ms/step - loss: 0.1495 - accuracy: 0.9478 - val_loss: 0.7550 - val_accuracy: 0.8960\n",
            "Epoch 6/30\n",
            "1719/1719 [==============================] - 8s 5ms/step - loss: 0.1544 - accuracy: 0.9474 - val_loss: 0.7908 - val_accuracy: 0.8886\n",
            "Epoch 7/30\n",
            "1719/1719 [==============================] - 9s 5ms/step - loss: 0.1558 - accuracy: 0.9476 - val_loss: 0.8721 - val_accuracy: 0.8888\n",
            "Epoch 8/30\n",
            "1719/1719 [==============================] - 9s 5ms/step - loss: 0.1631 - accuracy: 0.9459 - val_loss: 0.8814 - val_accuracy: 0.8982\n",
            "Epoch 9/30\n",
            "1719/1719 [==============================] - 8s 5ms/step - loss: 0.1686 - accuracy: 0.9442 - val_loss: 0.8721 - val_accuracy: 0.8926\n",
            "Epoch 10/30\n",
            "1719/1719 [==============================] - 8s 5ms/step - loss: 0.1661 - accuracy: 0.9442 - val_loss: 0.8846 - val_accuracy: 0.8834\n",
            "Epoch 11/30\n",
            "1719/1719 [==============================] - 8s 5ms/step - loss: 0.1724 - accuracy: 0.9453 - val_loss: 0.9247 - val_accuracy: 0.8972\n",
            "Epoch 12/30\n",
            "1719/1719 [==============================] - 8s 5ms/step - loss: 0.1739 - accuracy: 0.9435 - val_loss: 0.9768 - val_accuracy: 0.8924\n",
            "Epoch 13/30\n",
            "1719/1719 [==============================] - 8s 5ms/step - loss: 0.1802 - accuracy: 0.9433 - val_loss: 0.9675 - val_accuracy: 0.8950\n",
            "Epoch 14/30\n",
            "1719/1719 [==============================] - 8s 5ms/step - loss: 0.1730 - accuracy: 0.9448 - val_loss: 0.9451 - val_accuracy: 0.8930\n",
            "Epoch 15/30\n",
            "1719/1719 [==============================] - 8s 5ms/step - loss: 0.1792 - accuracy: 0.9439 - val_loss: 1.0627 - val_accuracy: 0.8940\n",
            "Epoch 16/30\n",
            "1719/1719 [==============================] - 8s 5ms/step - loss: 0.1796 - accuracy: 0.9434 - val_loss: 1.0375 - val_accuracy: 0.8934\n",
            "Epoch 17/30\n",
            "1719/1719 [==============================] - 8s 5ms/step - loss: 0.1822 - accuracy: 0.9449 - val_loss: 1.1462 - val_accuracy: 0.8914\n",
            "Epoch 18/30\n",
            "1719/1719 [==============================] - 8s 5ms/step - loss: 0.1869 - accuracy: 0.9421 - val_loss: 1.2250 - val_accuracy: 0.8868\n",
            "Epoch 19/30\n",
            "1719/1719 [==============================] - 8s 5ms/step - loss: 0.1860 - accuracy: 0.9420 - val_loss: 1.0768 - val_accuracy: 0.8888\n",
            "Epoch 20/30\n",
            "1719/1719 [==============================] - 8s 5ms/step - loss: 0.1883 - accuracy: 0.9431 - val_loss: 1.0599 - val_accuracy: 0.8888\n",
            "Epoch 21/30\n",
            "1719/1719 [==============================] - 8s 5ms/step - loss: 0.1832 - accuracy: 0.9448 - val_loss: 1.0927 - val_accuracy: 0.8878\n",
            "Epoch 22/30\n",
            "1719/1719 [==============================] - 8s 5ms/step - loss: 0.1878 - accuracy: 0.9432 - val_loss: 1.1872 - val_accuracy: 0.8846\n",
            "Epoch 23/30\n",
            "1719/1719 [==============================] - 8s 5ms/step - loss: 0.1895 - accuracy: 0.9437 - val_loss: 1.2246 - val_accuracy: 0.8910\n",
            "Epoch 24/30\n",
            "1719/1719 [==============================] - 8s 5ms/step - loss: 0.1926 - accuracy: 0.9431 - val_loss: 1.2749 - val_accuracy: 0.8844\n",
            "Epoch 25/30\n",
            "1719/1719 [==============================] - 8s 5ms/step - loss: 0.1932 - accuracy: 0.9439 - val_loss: 1.1198 - val_accuracy: 0.8888\n",
            "Epoch 26/30\n",
            "1719/1719 [==============================] - 8s 5ms/step - loss: 0.1921 - accuracy: 0.9437 - val_loss: 1.2871 - val_accuracy: 0.8918\n",
            "Epoch 27/30\n",
            "1719/1719 [==============================] - 8s 5ms/step - loss: 0.1955 - accuracy: 0.9432 - val_loss: 1.2290 - val_accuracy: 0.8896\n",
            "Epoch 28/30\n",
            "1719/1719 [==============================] - 8s 5ms/step - loss: 0.1942 - accuracy: 0.9429 - val_loss: 1.2307 - val_accuracy: 0.8944\n",
            "Epoch 29/30\n",
            "1719/1719 [==============================] - 8s 5ms/step - loss: 0.1904 - accuracy: 0.9439 - val_loss: 1.2639 - val_accuracy: 0.8940\n",
            "Epoch 30/30\n",
            "1719/1719 [==============================] - 8s 5ms/step - loss: 0.1938 - accuracy: 0.9447 - val_loss: 1.1814 - val_accuracy: 0.8892\n"
          ],
          "name": "stdout"
        }
      ]
    },
    {
      "cell_type": "code",
      "metadata": {
        "colab": {
          "base_uri": "https://localhost:8080/",
          "height": 328
        },
        "id": "eU89QRrcIj-y",
        "outputId": "0260b3da-8d9c-478c-f00f-53d0b0a7d7f9"
      },
      "source": [
        "pd.DataFrame(history2.history).plot(figsize=(8, 5))\n",
        "plt.grid(True)\n",
        "plt.gca().set_ylim(0, 1)\n",
        "plt.show()"
      ],
      "execution_count": 46,
      "outputs": [
        {
          "output_type": "display_data",
          "data": {
            "image/png": "[encoded data removed]",
            "text/plain": [
              "<Figure size 576x360 with 1 Axes>"
            ]
          },
          "metadata": {
            "tags": [],
            "needs_background": "light"
          }
        }
      ]
    },
    {
      "cell_type": "code",
      "metadata": {
        "colab": {
          "base_uri": "https://localhost:8080/"
        },
        "id": "BD4QN6taIrf2",
        "outputId": "c328bbba-f735-4aa2-aeac-3f9458281055"
      },
      "source": [
        "model.evaluate(X_test, y_test)"
      ],
      "execution_count": 47,
      "outputs": [
        {
          "output_type": "stream",
          "text": [
            "313/313 [==============================] - 0s 2ms/step - loss: 1.1656 - accuracy: 0.8797\n"
          ],
          "name": "stdout"
        },
        {
          "output_type": "execute_result",
          "data": {
            "text/plain": [
              "[1.1656304597854614, 0.8797000050544739]"
            ]
          },
          "metadata": {
            "tags": []
          },
          "execution_count": 47
        }
      ]
    },
    {
      "cell_type": "code",
      "metadata": {
        "id": "uBpTmHYeItz-"
      },
      "source": [
        "# 2) Plot Learning curves when using different batch size\n",
        "\n",
        "# As we know the rule of Batch size should be always the power of 2 and it depends on the size of the data ( 2**6, 2**7. 2**8 ...)"
      ],
      "execution_count": 48,
      "outputs": []
    },
    {
      "cell_type": "code",
      "metadata": {
        "id": "xoT7Zn-yI5RN"
      },
      "source": [
        "model.compile(loss=\"sparse_categorical_crossentropy\",\n",
        "              optimizer=\"Adam\",\n",
        "              metrics=[\"accuracy\"])"
      ],
      "execution_count": 49,
      "outputs": []
    },
    {
      "cell_type": "code",
      "metadata": {
        "colab": {
          "base_uri": "https://localhost:8080/"
        },
        "id": "j5fcY7_qWIK-",
        "outputId": "af703f92-db83-4fe0-e23d-ddfb07507e7f"
      },
      "source": [
        "# firstly we'll use the 2**6\n",
        "history4 = model.fit(X_train, y_train, batch_size=64, epochs=30,\n",
        "                    validation_data=(X_valid, y_valid))"
      ],
      "execution_count": 50,
      "outputs": [
        {
          "output_type": "stream",
          "text": [
            "Epoch 1/30\n",
            "860/860 [==============================] - 4s 5ms/step - loss: 0.1818 - accuracy: 0.9463 - val_loss: 1.0408 - val_accuracy: 0.8936\n",
            "Epoch 2/30\n",
            "860/860 [==============================] - 4s 5ms/step - loss: 0.1598 - accuracy: 0.9497 - val_loss: 1.0099 - val_accuracy: 0.8916\n",
            "Epoch 3/30\n",
            "860/860 [==============================] - 4s 5ms/step - loss: 0.1767 - accuracy: 0.9454 - val_loss: 0.8589 - val_accuracy: 0.8928\n",
            "Epoch 4/30\n",
            "860/860 [==============================] - 4s 5ms/step - loss: 0.1448 - accuracy: 0.9507 - val_loss: 0.8723 - val_accuracy: 0.8926\n",
            "Epoch 5/30\n",
            "860/860 [==============================] - 5s 5ms/step - loss: 0.1503 - accuracy: 0.9501 - val_loss: 0.8975 - val_accuracy: 0.8930\n",
            "Epoch 6/30\n",
            "860/860 [==============================] - 5s 5ms/step - loss: 0.1362 - accuracy: 0.9534 - val_loss: 0.8561 - val_accuracy: 0.8954\n",
            "Epoch 7/30\n",
            "860/860 [==============================] - 4s 5ms/step - loss: 0.1284 - accuracy: 0.9544 - val_loss: 0.9757 - val_accuracy: 0.8900\n",
            "Epoch 8/30\n",
            "860/860 [==============================] - 5s 6ms/step - loss: 0.1347 - accuracy: 0.9543 - val_loss: 0.8824 - val_accuracy: 0.9012\n",
            "Epoch 9/30\n",
            "860/860 [==============================] - 5s 5ms/step - loss: 0.1106 - accuracy: 0.9591 - val_loss: 0.8947 - val_accuracy: 0.8940\n",
            "Epoch 10/30\n",
            "860/860 [==============================] - 4s 5ms/step - loss: 0.1221 - accuracy: 0.9574 - val_loss: 0.9205 - val_accuracy: 0.8962\n",
            "Epoch 11/30\n",
            "860/860 [==============================] - 4s 5ms/step - loss: 0.1329 - accuracy: 0.9551 - val_loss: 0.8828 - val_accuracy: 0.8942\n",
            "Epoch 12/30\n",
            "860/860 [==============================] - 4s 5ms/step - loss: 0.1184 - accuracy: 0.9588 - val_loss: 0.9106 - val_accuracy: 0.8948\n",
            "Epoch 13/30\n",
            "860/860 [==============================] - 4s 5ms/step - loss: 0.1087 - accuracy: 0.9617 - val_loss: 0.8923 - val_accuracy: 0.9020\n",
            "Epoch 14/30\n",
            "860/860 [==============================] - 4s 5ms/step - loss: 0.1062 - accuracy: 0.9607 - val_loss: 0.8727 - val_accuracy: 0.8980\n",
            "Epoch 15/30\n",
            "860/860 [==============================] - 4s 5ms/step - loss: 0.1035 - accuracy: 0.9613 - val_loss: 0.9276 - val_accuracy: 0.8992\n",
            "Epoch 16/30\n",
            "860/860 [==============================] - 4s 5ms/step - loss: 0.1102 - accuracy: 0.9607 - val_loss: 0.9292 - val_accuracy: 0.8890\n",
            "Epoch 17/30\n",
            "860/860 [==============================] - 4s 5ms/step - loss: 0.1055 - accuracy: 0.9615 - val_loss: 0.8632 - val_accuracy: 0.8972\n",
            "Epoch 18/30\n",
            "860/860 [==============================] - 4s 5ms/step - loss: 0.0918 - accuracy: 0.9663 - val_loss: 0.9430 - val_accuracy: 0.8944\n",
            "Epoch 19/30\n",
            "860/860 [==============================] - 4s 5ms/step - loss: 0.0915 - accuracy: 0.9657 - val_loss: 0.9414 - val_accuracy: 0.8980\n",
            "Epoch 20/30\n",
            "860/860 [==============================] - 4s 5ms/step - loss: 0.1020 - accuracy: 0.9640 - val_loss: 0.8654 - val_accuracy: 0.8956\n",
            "Epoch 21/30\n",
            "860/860 [==============================] - 4s 5ms/step - loss: 0.0925 - accuracy: 0.9662 - val_loss: 0.9401 - val_accuracy: 0.8940\n",
            "Epoch 22/30\n",
            "860/860 [==============================] - 4s 5ms/step - loss: 0.0976 - accuracy: 0.9653 - val_loss: 0.8823 - val_accuracy: 0.8952\n",
            "Epoch 23/30\n",
            "860/860 [==============================] - 4s 5ms/step - loss: 0.0877 - accuracy: 0.9672 - val_loss: 0.9136 - val_accuracy: 0.8982\n",
            "Epoch 24/30\n",
            "860/860 [==============================] - 4s 5ms/step - loss: 0.0829 - accuracy: 0.9688 - val_loss: 0.9466 - val_accuracy: 0.9000\n",
            "Epoch 25/30\n",
            "860/860 [==============================] - 4s 5ms/step - loss: 0.0909 - accuracy: 0.9667 - val_loss: 0.8807 - val_accuracy: 0.8938\n",
            "Epoch 26/30\n",
            "860/860 [==============================] - 4s 5ms/step - loss: 0.0862 - accuracy: 0.9682 - val_loss: 0.9805 - val_accuracy: 0.8994\n",
            "Epoch 27/30\n",
            "860/860 [==============================] - 4s 5ms/step - loss: 0.0875 - accuracy: 0.9692 - val_loss: 0.9748 - val_accuracy: 0.8972\n",
            "Epoch 28/30\n",
            "860/860 [==============================] - 4s 5ms/step - loss: 0.0769 - accuracy: 0.9717 - val_loss: 0.9153 - val_accuracy: 0.8978\n",
            "Epoch 29/30\n",
            "860/860 [==============================] - 4s 5ms/step - loss: 0.0877 - accuracy: 0.9680 - val_loss: 0.9712 - val_accuracy: 0.8990\n",
            "Epoch 30/30\n",
            "860/860 [==============================] - 4s 5ms/step - loss: 0.0784 - accuracy: 0.9707 - val_loss: 0.9211 - val_accuracy: 0.8994\n"
          ],
          "name": "stdout"
        }
      ]
    },
    {
      "cell_type": "code",
      "metadata": {
        "colab": {
          "base_uri": "https://localhost:8080/"
        },
        "id": "dV4q9T9vWu9T",
        "outputId": "7e8c7958-193e-457e-bf5b-35b4d0b2826b"
      },
      "source": [
        "model.evaluate(X_test, y_test)\n"
      ],
      "execution_count": 51,
      "outputs": [
        {
          "output_type": "stream",
          "text": [
            "313/313 [==============================] - 0s 1ms/step - loss: 0.9455 - accuracy: 0.8903\n"
          ],
          "name": "stdout"
        },
        {
          "output_type": "execute_result",
          "data": {
            "text/plain": [
              "[0.9455108642578125, 0.8902999758720398]"
            ]
          },
          "metadata": {
            "tags": []
          },
          "execution_count": 51
        }
      ]
    },
    {
      "cell_type": "code",
      "metadata": {
        "colab": {
          "base_uri": "https://localhost:8080/"
        },
        "id": "Crx8bP2vW2QA",
        "outputId": "0a92c7b1-eff9-4865-8a49-7fee5542f956"
      },
      "source": [
        "# Batch size = 2 ** 7\n",
        "history5 = model.fit(X_train, y_train, batch_size=128, epochs=30,\n",
        "                    validation_data=(X_valid, y_valid))"
      ],
      "execution_count": 52,
      "outputs": [
        {
          "output_type": "stream",
          "text": [
            "Epoch 1/30\n",
            "430/430 [==============================] - 3s 7ms/step - loss: 0.0566 - accuracy: 0.9787 - val_loss: 0.9504 - val_accuracy: 0.9018\n",
            "Epoch 2/30\n",
            "430/430 [==============================] - 3s 7ms/step - loss: 0.0503 - accuracy: 0.9808 - val_loss: 0.9787 - val_accuracy: 0.9006\n",
            "Epoch 3/30\n",
            "430/430 [==============================] - 3s 6ms/step - loss: 0.0524 - accuracy: 0.9795 - val_loss: 1.0077 - val_accuracy: 0.8964\n",
            "Epoch 4/30\n",
            "430/430 [==============================] - 3s 6ms/step - loss: 0.0514 - accuracy: 0.9807 - val_loss: 1.0603 - val_accuracy: 0.8972\n",
            "Epoch 5/30\n",
            "430/430 [==============================] - 3s 6ms/step - loss: 0.0567 - accuracy: 0.9787 - val_loss: 0.9005 - val_accuracy: 0.8976\n",
            "Epoch 6/30\n",
            "430/430 [==============================] - 3s 7ms/step - loss: 0.0602 - accuracy: 0.9777 - val_loss: 1.0007 - val_accuracy: 0.8968\n",
            "Epoch 7/30\n",
            "430/430 [==============================] - 3s 6ms/step - loss: 0.0583 - accuracy: 0.9778 - val_loss: 0.9969 - val_accuracy: 0.8938\n",
            "Epoch 8/30\n",
            "430/430 [==============================] - 3s 6ms/step - loss: 0.0559 - accuracy: 0.9794 - val_loss: 1.0180 - val_accuracy: 0.8988\n",
            "Epoch 9/30\n",
            "430/430 [==============================] - 3s 6ms/step - loss: 0.0508 - accuracy: 0.9801 - val_loss: 1.0320 - val_accuracy: 0.8950\n",
            "Epoch 10/30\n",
            "430/430 [==============================] - 3s 7ms/step - loss: 0.0513 - accuracy: 0.9805 - val_loss: 1.0482 - val_accuracy: 0.8996\n",
            "Epoch 11/30\n",
            "430/430 [==============================] - 3s 6ms/step - loss: 0.0498 - accuracy: 0.9807 - val_loss: 1.0752 - val_accuracy: 0.8946\n",
            "Epoch 12/30\n",
            "430/430 [==============================] - 3s 7ms/step - loss: 0.0572 - accuracy: 0.9792 - val_loss: 1.1380 - val_accuracy: 0.8900\n",
            "Epoch 13/30\n",
            "430/430 [==============================] - 3s 6ms/step - loss: 0.0570 - accuracy: 0.9794 - val_loss: 1.1532 - val_accuracy: 0.8958\n",
            "Epoch 14/30\n",
            "430/430 [==============================] - 3s 6ms/step - loss: 0.0471 - accuracy: 0.9820 - val_loss: 1.1429 - val_accuracy: 0.8984\n",
            "Epoch 15/30\n",
            "430/430 [==============================] - 3s 7ms/step - loss: 0.0468 - accuracy: 0.9819 - val_loss: 1.1070 - val_accuracy: 0.8958\n",
            "Epoch 16/30\n",
            "430/430 [==============================] - 3s 6ms/step - loss: 0.0425 - accuracy: 0.9839 - val_loss: 1.2117 - val_accuracy: 0.9020\n",
            "Epoch 17/30\n",
            "430/430 [==============================] - 3s 7ms/step - loss: 0.0476 - accuracy: 0.9818 - val_loss: 1.0881 - val_accuracy: 0.8972\n",
            "Epoch 18/30\n",
            "430/430 [==============================] - 3s 7ms/step - loss: 0.0493 - accuracy: 0.9814 - val_loss: 1.1500 - val_accuracy: 0.8972\n",
            "Epoch 19/30\n",
            "430/430 [==============================] - 3s 6ms/step - loss: 0.0513 - accuracy: 0.9821 - val_loss: 1.1419 - val_accuracy: 0.8948\n",
            "Epoch 20/30\n",
            "430/430 [==============================] - 3s 6ms/step - loss: 0.0520 - accuracy: 0.9809 - val_loss: 1.1424 - val_accuracy: 0.8934\n",
            "Epoch 21/30\n",
            "430/430 [==============================] - 3s 6ms/step - loss: 0.0410 - accuracy: 0.9846 - val_loss: 1.1302 - val_accuracy: 0.8980\n",
            "Epoch 22/30\n",
            "430/430 [==============================] - 3s 7ms/step - loss: 0.0398 - accuracy: 0.9850 - val_loss: 1.1881 - val_accuracy: 0.8970\n",
            "Epoch 23/30\n",
            "430/430 [==============================] - 3s 6ms/step - loss: 0.0392 - accuracy: 0.9849 - val_loss: 1.1226 - val_accuracy: 0.8980\n",
            "Epoch 24/30\n",
            "430/430 [==============================] - 3s 6ms/step - loss: 0.0413 - accuracy: 0.9845 - val_loss: 1.2204 - val_accuracy: 0.8972\n",
            "Epoch 25/30\n",
            "430/430 [==============================] - 3s 6ms/step - loss: 0.0443 - accuracy: 0.9834 - val_loss: 1.1426 - val_accuracy: 0.8980\n",
            "Epoch 26/30\n",
            "430/430 [==============================] - 3s 6ms/step - loss: 0.0532 - accuracy: 0.9814 - val_loss: 1.1567 - val_accuracy: 0.8964\n",
            "Epoch 27/30\n",
            "430/430 [==============================] - 3s 6ms/step - loss: 0.0385 - accuracy: 0.9854 - val_loss: 1.2034 - val_accuracy: 0.8982\n",
            "Epoch 28/30\n",
            "430/430 [==============================] - 3s 7ms/step - loss: 0.0358 - accuracy: 0.9868 - val_loss: 1.1693 - val_accuracy: 0.8982\n",
            "Epoch 29/30\n",
            "430/430 [==============================] - 3s 7ms/step - loss: 0.0364 - accuracy: 0.9861 - val_loss: 1.1513 - val_accuracy: 0.8928\n",
            "Epoch 30/30\n",
            "430/430 [==============================] - 3s 6ms/step - loss: 0.0405 - accuracy: 0.9849 - val_loss: 1.1972 - val_accuracy: 0.8948\n"
          ],
          "name": "stdout"
        }
      ]
    },
    {
      "cell_type": "code",
      "metadata": {
        "colab": {
          "base_uri": "https://localhost:8080/"
        },
        "id": "z0IsrJ96Xibg",
        "outputId": "253ced1c-6799-4031-ae15-238dfa6b922b"
      },
      "source": [
        "model.evaluate(X_test, y_test)"
      ],
      "execution_count": 54,
      "outputs": [
        {
          "output_type": "stream",
          "text": [
            "250/250 [==============================] - 1s 2ms/step - loss: 0.9415 - accuracy: 0.8896\n"
          ],
          "name": "stdout"
        },
        {
          "output_type": "execute_result",
          "data": {
            "text/plain": [
              "[0.9415366053581238, 0.8895999789237976]"
            ]
          },
          "metadata": {
            "tags": []
          },
          "execution_count": 54
        }
      ]
    },
    {
      "cell_type": "code",
      "metadata": {
        "colab": {
          "base_uri": "https://localhost:8080/",
          "height": 634
        },
        "id": "vxfVfOblXWVG",
        "outputId": "eece4ed9-a0bb-4911-f3a5-3df47d33aad4"
      },
      "source": [
        "pd.DataFrame(history4.history).plot(figsize=(8, 5))\n",
        "pd.DataFrame(history5.history).plot(figsize=(8, 5))\n",
        "plt.grid(True)\n",
        "plt.gca().set_ylim(0, 1)\n",
        "plt.show()"
      ],
      "execution_count": 55,
      "outputs": [
        {
          "output_type": "display_data",
          "data": {
            "image/png": "[encoded data removed]",
            "text/plain": [
              "<Figure size 576x360 with 1 Axes>"
            ]
          },
          "metadata": {
            "tags": [],
            "needs_background": "light"
          }
        },
        {
          "output_type": "display_data",
          "data": {
            "image/png": "[encoded data removed]",
            "text/plain": [
              "<Figure size 576x360 with 1 Axes>"
            ]
          },
          "metadata": {
            "tags": [],
            "needs_background": "light"
          }
        }
      ]
    },
    {
      "cell_type": "code",
      "metadata": {
        "id": "hVEFkSd7XsQv"
      },
      "source": [
        "# question 3 : epochs variation "
      ],
      "execution_count": null,
      "outputs": []
    },
    {
      "cell_type": "code",
      "metadata": {
        "colab": {
          "base_uri": "https://localhost:8080/"
        },
        "id": "6O7YTIjcXxd8",
        "outputId": "d937e043-e62f-4f98-dfc5-79addf449b5f"
      },
      "source": [
        "history7 = model.fit(X_train, y_train, batch_size=32, epochs=10,\n",
        "                    validation_data=(X_valid, y_valid))\n"
      ],
      "execution_count": 56,
      "outputs": [
        {
          "output_type": "stream",
          "text": [
            "Epoch 1/10\n",
            "1719/1719 [==============================] - 6s 4ms/step - loss: 0.0812 - accuracy: 0.9711 - val_loss: 1.0515 - val_accuracy: 0.8968\n",
            "Epoch 2/10\n",
            "1719/1719 [==============================] - 6s 4ms/step - loss: 0.0791 - accuracy: 0.9715 - val_loss: 1.0826 - val_accuracy: 0.8980\n",
            "Epoch 3/10\n",
            "1719/1719 [==============================] - 7s 4ms/step - loss: 0.0825 - accuracy: 0.9700 - val_loss: 1.0006 - val_accuracy: 0.8972\n",
            "Epoch 4/10\n",
            "1719/1719 [==============================] - 6s 4ms/step - loss: 0.0810 - accuracy: 0.9710 - val_loss: 1.0039 - val_accuracy: 0.8950\n",
            "Epoch 5/10\n",
            "1719/1719 [==============================] - 6s 4ms/step - loss: 0.0885 - accuracy: 0.9697 - val_loss: 1.0391 - val_accuracy: 0.9002\n",
            "Epoch 6/10\n",
            "1719/1719 [==============================] - 6s 3ms/step - loss: 0.0778 - accuracy: 0.9720 - val_loss: 0.9658 - val_accuracy: 0.8900\n",
            "Epoch 7/10\n",
            "1719/1719 [==============================] - 6s 3ms/step - loss: 0.0831 - accuracy: 0.9715 - val_loss: 0.8575 - val_accuracy: 0.8992\n",
            "Epoch 8/10\n",
            "1719/1719 [==============================] - 6s 3ms/step - loss: 0.0700 - accuracy: 0.9745 - val_loss: 1.0369 - val_accuracy: 0.8872\n",
            "Epoch 9/10\n",
            "1719/1719 [==============================] - 6s 3ms/step - loss: 0.0737 - accuracy: 0.9743 - val_loss: 0.9684 - val_accuracy: 0.8924\n",
            "Epoch 10/10\n",
            "1719/1719 [==============================] - 6s 3ms/step - loss: 0.0832 - accuracy: 0.9710 - val_loss: 0.9679 - val_accuracy: 0.8934\n"
          ],
          "name": "stdout"
        }
      ]
    },
    {
      "cell_type": "code",
      "metadata": {
        "colab": {
          "base_uri": "https://localhost:8080/"
        },
        "id": "AuDEVaP2ZIEh",
        "outputId": "aaa39c56-3b86-46a3-f0b9-4affe1ba2959"
      },
      "source": [
        "model.evaluate(X_test, y_test)"
      ],
      "execution_count": 57,
      "outputs": [
        {
          "output_type": "stream",
          "text": [
            "313/313 [==============================] - 0s 2ms/step - loss: 1.0201 - accuracy: 0.8868\n"
          ],
          "name": "stdout"
        },
        {
          "output_type": "execute_result",
          "data": {
            "text/plain": [
              "[1.0200610160827637, 0.8867999911308289]"
            ]
          },
          "metadata": {
            "tags": []
          },
          "execution_count": 57
        }
      ]
    },
    {
      "cell_type": "code",
      "metadata": {
        "colab": {
          "base_uri": "https://localhost:8080/"
        },
        "id": "WcokKqiwZIta",
        "outputId": "81d06597-3ef5-42f1-ec7a-edc09ba96625"
      },
      "source": [
        "# Epochs = 20\n",
        "history8 = model.fit(X_train, y_train, batch_size=32, epochs=20,\n",
        "                    validation_data=(X_valid, y_valid))\n",
        "\n"
      ],
      "execution_count": 58,
      "outputs": [
        {
          "output_type": "stream",
          "text": [
            "Epoch 1/20\n",
            "1719/1719 [==============================] - 6s 3ms/step - loss: 0.0763 - accuracy: 0.9741 - val_loss: 1.1462 - val_accuracy: 0.8982\n",
            "Epoch 2/20\n",
            "1719/1719 [==============================] - 6s 3ms/step - loss: 0.0708 - accuracy: 0.9745 - val_loss: 1.0025 - val_accuracy: 0.8948\n",
            "Epoch 3/20\n",
            "1719/1719 [==============================] - 6s 3ms/step - loss: 0.0747 - accuracy: 0.9739 - val_loss: 1.0018 - val_accuracy: 0.8968\n",
            "Epoch 4/20\n",
            "1719/1719 [==============================] - 6s 3ms/step - loss: 0.0763 - accuracy: 0.9729 - val_loss: 0.9422 - val_accuracy: 0.8926\n",
            "Epoch 5/20\n",
            "1719/1719 [==============================] - 6s 3ms/step - loss: 0.0678 - accuracy: 0.9756 - val_loss: 1.1639 - val_accuracy: 0.8902\n",
            "Epoch 6/20\n",
            "1719/1719 [==============================] - 6s 3ms/step - loss: 0.0779 - accuracy: 0.9735 - val_loss: 0.9698 - val_accuracy: 0.8942\n",
            "Epoch 7/20\n",
            "1719/1719 [==============================] - 6s 3ms/step - loss: 0.0674 - accuracy: 0.9756 - val_loss: 1.0132 - val_accuracy: 0.8962\n",
            "Epoch 8/20\n",
            "1719/1719 [==============================] - 6s 3ms/step - loss: 0.0658 - accuracy: 0.9760 - val_loss: 0.9693 - val_accuracy: 0.8950\n",
            "Epoch 9/20\n",
            "1719/1719 [==============================] - 6s 3ms/step - loss: 0.0746 - accuracy: 0.9742 - val_loss: 1.0875 - val_accuracy: 0.8888\n",
            "Epoch 10/20\n",
            "1719/1719 [==============================] - 6s 3ms/step - loss: 0.0686 - accuracy: 0.9754 - val_loss: 1.0373 - val_accuracy: 0.8966\n",
            "Epoch 11/20\n",
            "1719/1719 [==============================] - 6s 3ms/step - loss: 0.0639 - accuracy: 0.9765 - val_loss: 0.9682 - val_accuracy: 0.8966\n",
            "Epoch 12/20\n",
            "1719/1719 [==============================] - 6s 3ms/step - loss: 0.0657 - accuracy: 0.9766 - val_loss: 1.1867 - val_accuracy: 0.8928\n",
            "Epoch 13/20\n",
            "1719/1719 [==============================] - 6s 3ms/step - loss: 0.0717 - accuracy: 0.9750 - val_loss: 1.0848 - val_accuracy: 0.9004\n",
            "Epoch 14/20\n",
            "1719/1719 [==============================] - 6s 3ms/step - loss: 0.0691 - accuracy: 0.9763 - val_loss: 1.0362 - val_accuracy: 0.8978\n",
            "Epoch 15/20\n",
            "1719/1719 [==============================] - 6s 3ms/step - loss: 0.0654 - accuracy: 0.9769 - val_loss: 1.1281 - val_accuracy: 0.8864\n",
            "Epoch 16/20\n",
            "1719/1719 [==============================] - 6s 3ms/step - loss: 0.0761 - accuracy: 0.9751 - val_loss: 1.1222 - val_accuracy: 0.8968\n",
            "Epoch 17/20\n",
            "1719/1719 [==============================] - 7s 4ms/step - loss: 0.0589 - accuracy: 0.9777 - val_loss: 0.9786 - val_accuracy: 0.8966\n",
            "Epoch 18/20\n",
            "1719/1719 [==============================] - 7s 4ms/step - loss: 0.0597 - accuracy: 0.9775 - val_loss: 1.0892 - val_accuracy: 0.8902\n",
            "Epoch 19/20\n",
            "1719/1719 [==============================] - 7s 4ms/step - loss: 0.0650 - accuracy: 0.9764 - val_loss: 1.0722 - val_accuracy: 0.8942\n",
            "Epoch 20/20\n",
            "1719/1719 [==============================] - 7s 4ms/step - loss: 0.0564 - accuracy: 0.9794 - val_loss: 1.1791 - val_accuracy: 0.8954\n"
          ],
          "name": "stdout"
        }
      ]
    },
    {
      "cell_type": "code",
      "metadata": {
        "colab": {
          "base_uri": "https://localhost:8080/"
        },
        "id": "53Ilcq8PZRU3",
        "outputId": "34f53e5a-400b-437c-91f1-5dab7bcb09dc"
      },
      "source": [
        "model.evaluate(X_test, y_test)"
      ],
      "execution_count": 59,
      "outputs": [
        {
          "output_type": "stream",
          "text": [
            "313/313 [==============================] - 0s 1ms/step - loss: 1.1668 - accuracy: 0.8875\n"
          ],
          "name": "stdout"
        },
        {
          "output_type": "execute_result",
          "data": {
            "text/plain": [
              "[1.1667941808700562, 0.887499988079071]"
            ]
          },
          "metadata": {
            "tags": []
          },
          "execution_count": 59
        }
      ]
    },
    {
      "cell_type": "code",
      "metadata": {
        "colab": {
          "base_uri": "https://localhost:8080/",
          "height": 634
        },
        "id": "6k6rulOXZUD3",
        "outputId": "1fc1afbd-cff0-4a31-95fb-18b1c84059ae"
      },
      "source": [
        "pd.DataFrame(history7.history).plot(figsize=(8, 5))\n",
        "pd.DataFrame(history8.history).plot(figsize=(8, 5))\n",
        "plt.grid(True)\n",
        "plt.gca().set_ylim(0, 1)\n",
        "plt.show()"
      ],
      "execution_count": 60,
      "outputs": [
        {
          "output_type": "display_data",
          "data": {
            "image/png": "[encoded data removed]",
            "text/plain": [
              "<Figure size 576x360 with 1 Axes>"
            ]
          },
          "metadata": {
            "tags": [],
            "needs_background": "light"
          }
        },
        {
          "output_type": "display_data",
          "data": {
            "image/png": "[encoded data removed]",
            "text/plain": [
              "<Figure size 576x360 with 1 Axes>"
            ]
          },
          "metadata": {
            "tags": [],
            "needs_background": "light"
          }
        }
      ]
    },
    {
      "cell_type": "code",
      "metadata": {
        "id": "lk51SETeZhPr"
      },
      "source": [
        "# Question 4\n",
        "\n",
        "model = keras.models.Sequential()\n",
        "model.add(keras.layers.Flatten(input_shape=[28, 28]))\n",
        "model.add(keras.layers.Dense(200, activation=\"relu\"))\n",
        "model.add((keras.layers.Dropout(0.5)))\n",
        "model.add(keras.layers.Dense(150, activation=\"relu\"))\n",
        "model.add((keras.layers.Dropout(0.5)))\n",
        "model.add(keras.layers.Dense(80, activation=\"relu\"))\n",
        "model.add(keras.layers.Dense(50, activation=\"relu\"))\n",
        "model.add(keras.layers.BatchNormalization())\n",
        "model.add(keras.layers.Dense(10, activation=\"softmax\"))"
      ],
      "execution_count": 61,
      "outputs": []
    },
    {
      "cell_type": "code",
      "metadata": {
        "colab": {
          "base_uri": "https://localhost:8080/"
        },
        "id": "5dQgouNXZum1",
        "outputId": "b88ba346-b28a-4083-b525-f6a54288b9e4"
      },
      "source": [
        "model.compile(loss=\"sparse_categorical_crossentropy\",\n",
        "              optimizer=\"adam\",\n",
        "              metrics=[\"accuracy\"])\n",
        "\n",
        "history9 = model.fit(X_train, y_train, batch_size=32, epochs=30,\n",
        "                    validation_data=(X_valid, y_valid))"
      ],
      "execution_count": 62,
      "outputs": [
        {
          "output_type": "stream",
          "text": [
            "Epoch 1/30\n",
            "1719/1719 [==============================] - 7s 4ms/step - loss: 0.8762 - accuracy: 0.6848 - val_loss: 0.4479 - val_accuracy: 0.8402\n",
            "Epoch 2/30\n",
            "1719/1719 [==============================] - 7s 4ms/step - loss: 0.5708 - accuracy: 0.7973 - val_loss: 0.4179 - val_accuracy: 0.8462\n",
            "Epoch 3/30\n",
            "1719/1719 [==============================] - 7s 4ms/step - loss: 0.5150 - accuracy: 0.8171 - val_loss: 0.3818 - val_accuracy: 0.8638\n",
            "Epoch 4/30\n",
            "1719/1719 [==============================] - 7s 4ms/step - loss: 0.4871 - accuracy: 0.8277 - val_loss: 0.3889 - val_accuracy: 0.8550\n",
            "Epoch 5/30\n",
            "1719/1719 [==============================] - 7s 4ms/step - loss: 0.4658 - accuracy: 0.8344 - val_loss: 0.3629 - val_accuracy: 0.8662\n",
            "Epoch 6/30\n",
            "1719/1719 [==============================] - 7s 4ms/step - loss: 0.4525 - accuracy: 0.8382 - val_loss: 0.3632 - val_accuracy: 0.8696\n",
            "Epoch 7/30\n",
            "1719/1719 [==============================] - 7s 4ms/step - loss: 0.4443 - accuracy: 0.8431 - val_loss: 0.3576 - val_accuracy: 0.8704\n",
            "Epoch 8/30\n",
            "1719/1719 [==============================] - 7s 4ms/step - loss: 0.4303 - accuracy: 0.8483 - val_loss: 0.3367 - val_accuracy: 0.8774\n",
            "Epoch 9/30\n",
            "1719/1719 [==============================] - 7s 4ms/step - loss: 0.4228 - accuracy: 0.8500 - val_loss: 0.3459 - val_accuracy: 0.8718\n",
            "Epoch 10/30\n",
            "1719/1719 [==============================] - 7s 4ms/step - loss: 0.4148 - accuracy: 0.8534 - val_loss: 0.3283 - val_accuracy: 0.8806\n",
            "Epoch 11/30\n",
            "1719/1719 [==============================] - 9s 5ms/step - loss: 0.4045 - accuracy: 0.8563 - val_loss: 0.3356 - val_accuracy: 0.8738\n",
            "Epoch 12/30\n",
            "1719/1719 [==============================] - 9s 5ms/step - loss: 0.4020 - accuracy: 0.8588 - val_loss: 0.3320 - val_accuracy: 0.8804\n",
            "Epoch 13/30\n",
            "1719/1719 [==============================] - 7s 4ms/step - loss: 0.3933 - accuracy: 0.8605 - val_loss: 0.3231 - val_accuracy: 0.8840\n",
            "Epoch 14/30\n",
            "1719/1719 [==============================] - 7s 4ms/step - loss: 0.3870 - accuracy: 0.8626 - val_loss: 0.3152 - val_accuracy: 0.8848\n",
            "Epoch 15/30\n",
            "1719/1719 [==============================] - 7s 4ms/step - loss: 0.3870 - accuracy: 0.8630 - val_loss: 0.3228 - val_accuracy: 0.8824\n",
            "Epoch 16/30\n",
            "1719/1719 [==============================] - 7s 4ms/step - loss: 0.3859 - accuracy: 0.8641 - val_loss: 0.3317 - val_accuracy: 0.8774\n",
            "Epoch 17/30\n",
            "1719/1719 [==============================] - 7s 4ms/step - loss: 0.3800 - accuracy: 0.8644 - val_loss: 0.3199 - val_accuracy: 0.8800\n",
            "Epoch 18/30\n",
            "1719/1719 [==============================] - 6s 4ms/step - loss: 0.3765 - accuracy: 0.8651 - val_loss: 0.3157 - val_accuracy: 0.8844\n",
            "Epoch 19/30\n",
            "1719/1719 [==============================] - 7s 4ms/step - loss: 0.3712 - accuracy: 0.8691 - val_loss: 0.3110 - val_accuracy: 0.8894\n",
            "Epoch 20/30\n",
            "1719/1719 [==============================] - 7s 4ms/step - loss: 0.3711 - accuracy: 0.8680 - val_loss: 0.3203 - val_accuracy: 0.8802\n",
            "Epoch 21/30\n",
            "1719/1719 [==============================] - 7s 4ms/step - loss: 0.3704 - accuracy: 0.8688 - val_loss: 0.3209 - val_accuracy: 0.8810\n",
            "Epoch 22/30\n",
            "1719/1719 [==============================] - 7s 4ms/step - loss: 0.3681 - accuracy: 0.8695 - val_loss: 0.3167 - val_accuracy: 0.8840\n",
            "Epoch 23/30\n",
            "1719/1719 [==============================] - 7s 4ms/step - loss: 0.3595 - accuracy: 0.8707 - val_loss: 0.3101 - val_accuracy: 0.8906\n",
            "Epoch 24/30\n",
            "1719/1719 [==============================] - 7s 4ms/step - loss: 0.3579 - accuracy: 0.8715 - val_loss: 0.3119 - val_accuracy: 0.8850\n",
            "Epoch 25/30\n",
            "1719/1719 [==============================] - 7s 4ms/step - loss: 0.3561 - accuracy: 0.8724 - val_loss: 0.3084 - val_accuracy: 0.8892\n",
            "Epoch 26/30\n",
            "1719/1719 [==============================] - 7s 4ms/step - loss: 0.3531 - accuracy: 0.8736 - val_loss: 0.3165 - val_accuracy: 0.8818\n",
            "Epoch 27/30\n",
            "1719/1719 [==============================] - 7s 4ms/step - loss: 0.3557 - accuracy: 0.8725 - val_loss: 0.3123 - val_accuracy: 0.8868\n",
            "Epoch 28/30\n",
            "1719/1719 [==============================] - 7s 4ms/step - loss: 0.3468 - accuracy: 0.8759 - val_loss: 0.3051 - val_accuracy: 0.8856\n",
            "Epoch 29/30\n",
            "1719/1719 [==============================] - 7s 4ms/step - loss: 0.3461 - accuracy: 0.8767 - val_loss: 0.3042 - val_accuracy: 0.8870\n",
            "Epoch 30/30\n",
            "1719/1719 [==============================] - 7s 4ms/step - loss: 0.3444 - accuracy: 0.8772 - val_loss: 0.3050 - val_accuracy: 0.8906\n"
          ],
          "name": "stdout"
        }
      ]
    },
    {
      "cell_type": "code",
      "metadata": {
        "id": "qjRBVptKZ6zj"
      },
      "source": [
        "model.evaluate(X_test, y_test)"
      ],
      "execution_count": null,
      "outputs": []
    },
    {
      "cell_type": "code",
      "metadata": {
        "id": "XzBdx577Z9ii"
      },
      "source": [
        "pd.DataFrame(history9.history).plot(figsize=(8, 5))\n",
        "plt.grid(True)\n",
        "plt.gca().set_ylim(0, 1)\n",
        "plt.show()"
      ],
      "execution_count": null,
      "outputs": []
    }
  ]
}